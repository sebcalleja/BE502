{
 "cells": [
  {
   "cell_type": "code",
   "execution_count": 2,
   "metadata": {},
   "outputs": [],
   "source": [
    "import pandas as pd\n",
    "import numpy as np"
   ]
  },
  {
   "cell_type": "code",
   "execution_count": 3,
   "metadata": {},
   "outputs": [],
   "source": [
    "data = pd.read_csv('/Users/sebastiancalleja/Desktop/tucson_rain.csv')"
   ]
  },
  {
   "cell_type": "code",
   "execution_count": 6,
   "metadata": {},
   "outputs": [],
   "source": [
    "dates = data['readingDate'].str.split('/')"
   ]
  },
  {
   "cell_type": "code",
   "execution_count": 8,
   "metadata": {},
   "outputs": [],
   "source": [
    "data['month'] = [dates[i][0] for i in dates.index]\n",
    "data['day'] = [dates[i][1] for i in dates.index]\n",
    "data['year'] = [dates[i][2] for i in dates.index]"
   ]
  },
  {
   "cell_type": "code",
   "execution_count": 45,
   "metadata": {},
   "outputs": [],
   "source": [
    "data_subset = data[[\"rainAmount\", \"quality\", \"year\", \"month\", \"day\"]]"
   ]
  },
  {
   "cell_type": "code",
   "execution_count": 46,
   "metadata": {},
   "outputs": [],
   "source": [
    "data_good = data_subset[(data_subset['quality']==\"Good\")]"
   ]
  },
  {
   "cell_type": "code",
   "execution_count": 47,
   "metadata": {},
   "outputs": [],
   "source": [
    "data_2018 = data_good[(data_good['year'] == '18')]\n",
    "data_2019 = data_good[(data_good['year'] == '19')]"
   ]
  },
  {
   "cell_type": "code",
   "execution_count": 77,
   "metadata": {},
   "outputs": [],
   "source": [
    "rain_mean = data_good.groupby([\"year\", \"month\"], axis = 0, as_index = True).mean()\n",
    "rain_sum = data_good.groupby([\"year\", \"month\"], axis = 0, as_index = True).sum()"
   ]
  },
  {
   "cell_type": "code",
   "execution_count": 78,
   "metadata": {},
   "outputs": [],
   "source": [
    "rain_mean_df = pd.DataFrame(rain_mean)\n",
    "rain_sum_df = pd.DataFrame(rain_sum)"
   ]
  },
  {
   "cell_type": "code",
   "execution_count": 80,
   "metadata": {},
   "outputs": [],
   "source": [
    "rain_mean_2018 = rain_mean_df[0:12]\n",
    "rain_mean_2019 = rain_mean_df[12:24]\n",
    "rain_sum_2018 = rain_sum_df[0:12]\n",
    "rain_sum_2019 = rain_sum_df[12:24]"
   ]
  },
  {
   "cell_type": "code",
   "execution_count": 81,
   "metadata": {},
   "outputs": [],
   "source": [
    "merge = pd.merge(rain_mean_2018, rain_mean_2019, on = 'month')\n",
    "merge1 = pd.merge(rain_sum_2018, rain_sum_2019, on = 'month')"
   ]
  },
  {
   "cell_type": "code",
   "execution_count": 88,
   "metadata": {},
   "outputs": [],
   "source": [
    "merge ['mean_diff'] = merge['rainAmount_x'] - merge['rainAmount_y']"
   ]
  },
  {
   "cell_type": "code",
   "execution_count": 92,
   "metadata": {},
   "outputs": [],
   "source": [
    "del merge['diff']"
   ]
  },
  {
   "cell_type": "code",
   "execution_count": 93,
   "metadata": {},
   "outputs": [],
   "source": [
    "merge_all = pd.merge(merge, merge1, on = 'month')"
   ]
  },
  {
   "cell_type": "code",
   "execution_count": 95,
   "metadata": {},
   "outputs": [],
   "source": [
    "merge_all_df = pd.DataFrame(merge_all)"
   ]
  },
  {
   "cell_type": "code",
   "execution_count": 96,
   "metadata": {},
   "outputs": [
    {
     "data": {
      "text/html": [
       "<div>\n",
       "<style scoped>\n",
       "    .dataframe tbody tr th:only-of-type {\n",
       "        vertical-align: middle;\n",
       "    }\n",
       "\n",
       "    .dataframe tbody tr th {\n",
       "        vertical-align: top;\n",
       "    }\n",
       "\n",
       "    .dataframe thead th {\n",
       "        text-align: right;\n",
       "    }\n",
       "</style>\n",
       "<table border=\"1\" class=\"dataframe\">\n",
       "  <thead>\n",
       "    <tr style=\"text-align: right;\">\n",
       "      <th></th>\n",
       "      <th>rainAmount_x_x</th>\n",
       "      <th>rainAmount_y_x</th>\n",
       "      <th>mean_diff</th>\n",
       "      <th>rainAmount_x_y</th>\n",
       "      <th>rainAmount_y_y</th>\n",
       "    </tr>\n",
       "    <tr>\n",
       "      <th>month</th>\n",
       "      <th></th>\n",
       "      <th></th>\n",
       "      <th></th>\n",
       "      <th></th>\n",
       "      <th></th>\n",
       "    </tr>\n",
       "  </thead>\n",
       "  <tbody>\n",
       "    <tr>\n",
       "      <th>1</th>\n",
       "      <td>0.019656</td>\n",
       "      <td>0.070034</td>\n",
       "      <td>-0.050379</td>\n",
       "      <td>116.8527</td>\n",
       "      <td>502.0062</td>\n",
       "    </tr>\n",
       "    <tr>\n",
       "      <th>10</th>\n",
       "      <td>0.181781</td>\n",
       "      <td>0.000014</td>\n",
       "      <td>0.181767</td>\n",
       "      <td>1398.9847</td>\n",
       "      <td>0.0900</td>\n",
       "    </tr>\n",
       "    <tr>\n",
       "      <th>11</th>\n",
       "      <td>0.014607</td>\n",
       "      <td>0.146534</td>\n",
       "      <td>-0.131927</td>\n",
       "      <td>92.1825</td>\n",
       "      <td>1096.2176</td>\n",
       "    </tr>\n",
       "    <tr>\n",
       "      <th>12</th>\n",
       "      <td>0.065212</td>\n",
       "      <td>0.096759</td>\n",
       "      <td>-0.031548</td>\n",
       "      <td>472.0013</td>\n",
       "      <td>732.8560</td>\n",
       "    </tr>\n",
       "    <tr>\n",
       "      <th>2</th>\n",
       "      <td>0.127649</td>\n",
       "      <td>0.170169</td>\n",
       "      <td>-0.042521</td>\n",
       "      <td>787.7206</td>\n",
       "      <td>1257.2122</td>\n",
       "    </tr>\n",
       "    <tr>\n",
       "      <th>3</th>\n",
       "      <td>0.003715</td>\n",
       "      <td>0.047734</td>\n",
       "      <td>-0.044019</td>\n",
       "      <td>20.8994</td>\n",
       "      <td>334.7558</td>\n",
       "    </tr>\n",
       "    <tr>\n",
       "      <th>4</th>\n",
       "      <td>0.000056</td>\n",
       "      <td>0.004871</td>\n",
       "      <td>-0.004815</td>\n",
       "      <td>0.2900</td>\n",
       "      <td>30.6947</td>\n",
       "    </tr>\n",
       "    <tr>\n",
       "      <th>5</th>\n",
       "      <td>0.000311</td>\n",
       "      <td>0.014523</td>\n",
       "      <td>-0.014212</td>\n",
       "      <td>1.6850</td>\n",
       "      <td>91.9900</td>\n",
       "    </tr>\n",
       "    <tr>\n",
       "      <th>6</th>\n",
       "      <td>0.073618</td>\n",
       "      <td>0.001340</td>\n",
       "      <td>0.072277</td>\n",
       "      <td>414.2458</td>\n",
       "      <td>8.0250</td>\n",
       "    </tr>\n",
       "    <tr>\n",
       "      <th>7</th>\n",
       "      <td>0.116038</td>\n",
       "      <td>0.057598</td>\n",
       "      <td>0.058441</td>\n",
       "      <td>788.4815</td>\n",
       "      <td>402.7821</td>\n",
       "    </tr>\n",
       "    <tr>\n",
       "      <th>8</th>\n",
       "      <td>0.110740</td>\n",
       "      <td>0.095941</td>\n",
       "      <td>0.014799</td>\n",
       "      <td>770.8589</td>\n",
       "      <td>698.9288</td>\n",
       "    </tr>\n",
       "    <tr>\n",
       "      <th>9</th>\n",
       "      <td>0.091743</td>\n",
       "      <td>0.113077</td>\n",
       "      <td>-0.021333</td>\n",
       "      <td>581.4695</td>\n",
       "      <td>836.3146</td>\n",
       "    </tr>\n",
       "  </tbody>\n",
       "</table>\n",
       "</div>"
      ],
      "text/plain": [
       "       rainAmount_x_x  rainAmount_y_x  mean_diff  rainAmount_x_y  \\\n",
       "month                                                              \n",
       "1            0.019656        0.070034  -0.050379        116.8527   \n",
       "10           0.181781        0.000014   0.181767       1398.9847   \n",
       "11           0.014607        0.146534  -0.131927         92.1825   \n",
       "12           0.065212        0.096759  -0.031548        472.0013   \n",
       "2            0.127649        0.170169  -0.042521        787.7206   \n",
       "3            0.003715        0.047734  -0.044019         20.8994   \n",
       "4            0.000056        0.004871  -0.004815          0.2900   \n",
       "5            0.000311        0.014523  -0.014212          1.6850   \n",
       "6            0.073618        0.001340   0.072277        414.2458   \n",
       "7            0.116038        0.057598   0.058441        788.4815   \n",
       "8            0.110740        0.095941   0.014799        770.8589   \n",
       "9            0.091743        0.113077  -0.021333        581.4695   \n",
       "\n",
       "       rainAmount_y_y  \n",
       "month                  \n",
       "1            502.0062  \n",
       "10             0.0900  \n",
       "11          1096.2176  \n",
       "12           732.8560  \n",
       "2           1257.2122  \n",
       "3            334.7558  \n",
       "4             30.6947  \n",
       "5             91.9900  \n",
       "6              8.0250  \n",
       "7            402.7821  \n",
       "8            698.9288  \n",
       "9            836.3146  "
      ]
     },
     "execution_count": 96,
     "metadata": {},
     "output_type": "execute_result"
    }
   ],
   "source": [
    "merge_all_df"
   ]
  },
  {
   "cell_type": "code",
   "execution_count": 103,
   "metadata": {},
   "outputs": [],
   "source": [
    "Final_df = merge_all_df.rename(columns = {'rainAmount_x_x':'Mean_2018', 'rainAmount_y_x':'Mean_2018', \n",
    "                    'rainAmount_x_y':'Sum_2018', 'rainAmount_y_y':'Sum_2019'})"
   ]
  },
  {
   "cell_type": "code",
   "execution_count": 104,
   "metadata": {},
   "outputs": [
    {
     "data": {
      "text/html": [
       "<div>\n",
       "<style scoped>\n",
       "    .dataframe tbody tr th:only-of-type {\n",
       "        vertical-align: middle;\n",
       "    }\n",
       "\n",
       "    .dataframe tbody tr th {\n",
       "        vertical-align: top;\n",
       "    }\n",
       "\n",
       "    .dataframe thead th {\n",
       "        text-align: right;\n",
       "    }\n",
       "</style>\n",
       "<table border=\"1\" class=\"dataframe\">\n",
       "  <thead>\n",
       "    <tr style=\"text-align: right;\">\n",
       "      <th></th>\n",
       "      <th>Mean_2018</th>\n",
       "      <th>Mean_2018</th>\n",
       "      <th>mean_diff</th>\n",
       "      <th>Sum_2018</th>\n",
       "      <th>Sum_2019</th>\n",
       "    </tr>\n",
       "    <tr>\n",
       "      <th>month</th>\n",
       "      <th></th>\n",
       "      <th></th>\n",
       "      <th></th>\n",
       "      <th></th>\n",
       "      <th></th>\n",
       "    </tr>\n",
       "  </thead>\n",
       "  <tbody>\n",
       "    <tr>\n",
       "      <th>1</th>\n",
       "      <td>0.019656</td>\n",
       "      <td>0.070034</td>\n",
       "      <td>-0.050379</td>\n",
       "      <td>116.8527</td>\n",
       "      <td>502.0062</td>\n",
       "    </tr>\n",
       "    <tr>\n",
       "      <th>10</th>\n",
       "      <td>0.181781</td>\n",
       "      <td>0.000014</td>\n",
       "      <td>0.181767</td>\n",
       "      <td>1398.9847</td>\n",
       "      <td>0.0900</td>\n",
       "    </tr>\n",
       "    <tr>\n",
       "      <th>11</th>\n",
       "      <td>0.014607</td>\n",
       "      <td>0.146534</td>\n",
       "      <td>-0.131927</td>\n",
       "      <td>92.1825</td>\n",
       "      <td>1096.2176</td>\n",
       "    </tr>\n",
       "    <tr>\n",
       "      <th>12</th>\n",
       "      <td>0.065212</td>\n",
       "      <td>0.096759</td>\n",
       "      <td>-0.031548</td>\n",
       "      <td>472.0013</td>\n",
       "      <td>732.8560</td>\n",
       "    </tr>\n",
       "    <tr>\n",
       "      <th>2</th>\n",
       "      <td>0.127649</td>\n",
       "      <td>0.170169</td>\n",
       "      <td>-0.042521</td>\n",
       "      <td>787.7206</td>\n",
       "      <td>1257.2122</td>\n",
       "    </tr>\n",
       "    <tr>\n",
       "      <th>3</th>\n",
       "      <td>0.003715</td>\n",
       "      <td>0.047734</td>\n",
       "      <td>-0.044019</td>\n",
       "      <td>20.8994</td>\n",
       "      <td>334.7558</td>\n",
       "    </tr>\n",
       "    <tr>\n",
       "      <th>4</th>\n",
       "      <td>0.000056</td>\n",
       "      <td>0.004871</td>\n",
       "      <td>-0.004815</td>\n",
       "      <td>0.2900</td>\n",
       "      <td>30.6947</td>\n",
       "    </tr>\n",
       "    <tr>\n",
       "      <th>5</th>\n",
       "      <td>0.000311</td>\n",
       "      <td>0.014523</td>\n",
       "      <td>-0.014212</td>\n",
       "      <td>1.6850</td>\n",
       "      <td>91.9900</td>\n",
       "    </tr>\n",
       "    <tr>\n",
       "      <th>6</th>\n",
       "      <td>0.073618</td>\n",
       "      <td>0.001340</td>\n",
       "      <td>0.072277</td>\n",
       "      <td>414.2458</td>\n",
       "      <td>8.0250</td>\n",
       "    </tr>\n",
       "    <tr>\n",
       "      <th>7</th>\n",
       "      <td>0.116038</td>\n",
       "      <td>0.057598</td>\n",
       "      <td>0.058441</td>\n",
       "      <td>788.4815</td>\n",
       "      <td>402.7821</td>\n",
       "    </tr>\n",
       "    <tr>\n",
       "      <th>8</th>\n",
       "      <td>0.110740</td>\n",
       "      <td>0.095941</td>\n",
       "      <td>0.014799</td>\n",
       "      <td>770.8589</td>\n",
       "      <td>698.9288</td>\n",
       "    </tr>\n",
       "    <tr>\n",
       "      <th>9</th>\n",
       "      <td>0.091743</td>\n",
       "      <td>0.113077</td>\n",
       "      <td>-0.021333</td>\n",
       "      <td>581.4695</td>\n",
       "      <td>836.3146</td>\n",
       "    </tr>\n",
       "  </tbody>\n",
       "</table>\n",
       "</div>"
      ],
      "text/plain": [
       "       Mean_2018  Mean_2018  mean_diff   Sum_2018   Sum_2019\n",
       "month                                                       \n",
       "1       0.019656   0.070034  -0.050379   116.8527   502.0062\n",
       "10      0.181781   0.000014   0.181767  1398.9847     0.0900\n",
       "11      0.014607   0.146534  -0.131927    92.1825  1096.2176\n",
       "12      0.065212   0.096759  -0.031548   472.0013   732.8560\n",
       "2       0.127649   0.170169  -0.042521   787.7206  1257.2122\n",
       "3       0.003715   0.047734  -0.044019    20.8994   334.7558\n",
       "4       0.000056   0.004871  -0.004815     0.2900    30.6947\n",
       "5       0.000311   0.014523  -0.014212     1.6850    91.9900\n",
       "6       0.073618   0.001340   0.072277   414.2458     8.0250\n",
       "7       0.116038   0.057598   0.058441   788.4815   402.7821\n",
       "8       0.110740   0.095941   0.014799   770.8589   698.9288\n",
       "9       0.091743   0.113077  -0.021333   581.4695   836.3146"
      ]
     },
     "execution_count": 104,
     "metadata": {},
     "output_type": "execute_result"
    }
   ],
   "source": [
    "Final_df"
   ]
  },
  {
   "cell_type": "code",
   "execution_count": null,
   "metadata": {},
   "outputs": [],
   "source": []
  }
 ],
 "metadata": {
  "kernelspec": {
   "display_name": "Python 3",
   "language": "python",
   "name": "python3"
  },
  "language_info": {
   "codemirror_mode": {
    "name": "ipython",
    "version": 3
   },
   "file_extension": ".py",
   "mimetype": "text/x-python",
   "name": "python",
   "nbconvert_exporter": "python",
   "pygments_lexer": "ipython3",
   "version": "3.8.3"
  }
 },
 "nbformat": 4,
 "nbformat_minor": 4
}
