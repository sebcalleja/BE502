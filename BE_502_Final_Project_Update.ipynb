{
 "cells": [
  {
   "cell_type": "code",
   "execution_count": 1,
   "metadata": {},
   "outputs": [],
   "source": [
    "import pandas as pd\n",
    "import numpy as np\n",
    "import matplotlib.pyplot as plt\n",
    "import statsmodels.api as sm\n",
    "import statsmodels.formula.api as smf"
   ]
  },
  {
   "cell_type": "code",
   "execution_count": 2,
   "metadata": {},
   "outputs": [
    {
     "name": "stderr",
     "output_type": "stream",
     "text": [
      "/opt/anaconda3/lib/python3.8/site-packages/IPython/core/interactiveshell.py:3263: DtypeWarning: Columns (14) have mixed types.Specify dtype option on import or set low_memory=False.\n",
      "  if (await self.run_code(code, result,  async_=asy)):\n"
     ]
    },
    {
     "name": "stdout",
     "output_type": "stream",
     "text": [
      "{'Regression Analysis': <class 'statsmodels.iolib.summary.Summary'>\n",
      "\"\"\"\n",
      "                 Generalized Linear Model Regression Results                  \n",
      "==============================================================================\n",
      "Dep. Variable:                   Rain   No. Observations:                    8\n",
      "Model:                            GLM   Df Residuals:                        6\n",
      "Model Family:                Gaussian   Df Model:                            1\n",
      "Link Function:               identity   Scale:                          84617.\n",
      "Method:                          IRLS   Log-Likelihood:                -55.584\n",
      "Date:                Thu, 17 Dec 2020   Deviance:                   5.0770e+05\n",
      "Time:                        12:20:16   Pearson chi2:                 5.08e+05\n",
      "No. Iterations:                     3                                         \n",
      "Covariance Type:            nonrobust                                         \n",
      "==============================================================================\n",
      "                 coef    std err          z      P>|z|      [0.025      0.975]\n",
      "------------------------------------------------------------------------------\n",
      "Intercept  -1.487e+05   9.05e+04     -1.644      0.100   -3.26e+05    2.86e+04\n",
      "year          74.6788     44.885      1.664      0.096     -13.295     162.652\n",
      "==============================================================================\n",
      "\"\"\"}\n"
     ]
    },
    {
     "data": {
      "image/png": "[encoded data removed]",
      "text/plain": [
       "<Figure size 432x288 with 1 Axes>"
      ]
     },
     "metadata": {
      "needs_background": "light"
     },
     "output_type": "display_data"
    }
   ],
   "source": [
    "class Rain:\n",
    "    def __init__(self, filename, sep, gauge_col=\"gaugeId\", date_col=\"readingDate\", rain_col=\"rainAmount\", \n",
    "                 quality_col=\"quality\", created_col=\"createdDate\"):\n",
    "        self.gauge_col, self.date_col  = gauge_col, date_col\n",
    "        self.rain_col, self.quality_col= rain_col, quality_col\n",
    "        self.created_col = created_col\n",
    "        data=pd.read_csv(filename,sep=sep)\n",
    "        data=data[data[quality_col].str.upper()==\"GOOD\"]\n",
    "        data=data[data[created_col]<\"2012-01-01\"]\n",
    "        self.__data__ = data\n",
    "        \n",
    "    def common_gauges (self, obj3, obj4, obj5, obj6, obj7, obj8, obj9):\n",
    "        data2012=self.__data__\n",
    "        data2013=obj3.__data__\n",
    "        data2014=obj4.__data__\n",
    "        data2015=obj5.__data__\n",
    "        data2016=obj6.__data__\n",
    "        data2017=obj7.__data__\n",
    "        data2018=obj8.__data__\n",
    "        data2019=obj9.__data__\n",
    "        common=(set(data2012[self.gauge_col]).intersection(set(data2013[obj3.gauge_col])).intersection(set(data2014[obj4.gauge_col])).intersection(set(data2015[obj5.gauge_col])).intersection(set(data2016[obj6.gauge_col])).intersection(set(data2017[obj7.gauge_col])).intersection(set(data2018[obj8.gauge_col])).intersection(set(data2019[obj9.gauge_col])))\n",
    "        common = pd.DataFrame({\"Common gauges\": common, \"Number of common gauges\": len(common)})\n",
    "        list_cg = common[\"Common gauges\"]\n",
    "        common_gauges_list = pd.DataFrame(list_cg.loc[1])\n",
    "        common_gauges_list = (pd.DataFrame(list_cg.loc[1])).rename(columns= {0 : \"gaugeId\"})\n",
    "        return common_gauges_list\n",
    "   \n",
    "    def retrieve_rain(self):\n",
    "        data=self.__data__\n",
    "        data_new = pd.DataFrame(data)\n",
    "        common_gauge_data = Rain.common_gauges(tucson_rain2012, tucson_rain2013, tucson_rain2014, tucson_rain2015, tucson_rain2016, tucson_rain2017, tucson_rain2018, tucson_rain2019)\n",
    "        common_gauge_data_df = pd.DataFrame(common_gauge_data)\n",
    "        merge_data = pd.merge(data_new, common_gauge_data_df)\n",
    "        rain =merge_data[self.rain_col].sum()\n",
    "        gauges =len(set(merge_data[self.gauge_col]))\n",
    "        relative_amount = rain / gauges\n",
    "        return pd.DataFrame({\"Total amount of rain\": rain, \"Number of gauges\": gauges, \"Amount of rain per gauge\": \n",
    "                             relative_amount}, index=[0])\n",
    "            \n",
    "            \n",
    "    def regression(self, obj3, obj4, obj5, obj6, obj7, obj8, obj9):\n",
    "        Rain_df = pd.concat([Rain.retrieve_rain(self), Rain.retrieve_rain(obj3), Rain.retrieve_rain(obj4), Rain.retrieve_rain(obj5), Rain.retrieve_rain(obj6), Rain.retrieve_rain(obj7), Rain.retrieve_rain(obj8), Rain.retrieve_rain(obj9)])\n",
    "        rainAmount = pd.DataFrame(Rain_df[\"Total amount of rain\"])\n",
    "        rain_data = rainAmount.assign(year = [2012, 2013, 2014, 2015, 2016, 2017, 2018, 2019])\n",
    "        reg_data = rain_data.rename(columns = {\"Total amount of rain\":\"Rain\"})\n",
    "        rain_glm=smf.glm(formula=\"Rain ~ year\", \n",
    "                         data = reg_data, family = sm.families.Gaussian())\n",
    "        res=rain_glm.fit()\n",
    "        return res.summary()\n",
    "    \n",
    "    \n",
    "    def visual(self, obj3, obj4, obj5, obj6, obj7, obj8, obj9):\n",
    "        Rain_df = pd.concat([Rain.retrieve_rain(self), Rain.retrieve_rain(obj3), Rain.retrieve_rain(obj4), Rain.retrieve_rain(obj5), Rain.retrieve_rain(obj6), Rain.retrieve_rain(obj7), Rain.retrieve_rain(obj8), Rain.retrieve_rain(obj9)])\n",
    "        Stats = Rain.regression(self, obj3, obj4, obj5, obj6, obj7, obj8, obj9)\n",
    "        x=np.array([2012,2013,2014,2015,2016,2017,2018,2019])\n",
    "        y=Rain_df[\"Total amount of rain\"]\n",
    "        m, b = np.polyfit(x, y, 1)\n",
    "        plt.plot(x, y, 'o')\n",
    "        plt.plot(x, m*x + b)\n",
    "        plt.xlabel(\"Year\"); plt.ylabel(\"Yearly rain (inches)\")\n",
    "        plt.title(\"Tucson rain for the past 8 years\")\n",
    "        return{\"Regression Analysis\": Stats}\n",
    "    \n",
    "\n",
    "tucson_rain2012=Rain(\"tucson_rain_2012.txt\", \",\")\n",
    "tucson_rain2013=Rain(\"tucson_rain_2013.txt\", \",\")\n",
    "tucson_rain2014=Rain(\"tucson_rain_2014.txt\", \",\")\n",
    "tucson_rain2015=Rain(\"tucson_rain_2015.txt\", \",\")\n",
    "tucson_rain2016=Rain(\"tucson_rain_2016.txt\", \",\")\n",
    "tucson_rain2017=Rain(\"tucson_rain_2017.txt\", \",\")\n",
    "tucson_rain2018=Rain(\"tucson_rain_2018.txt\", \",\")\n",
    "tucson_rain2019=Rain(\"tucson_rain_2019.txt\", \",\")\n",
    "\n",
    "print(Rain.visual(tucson_rain2012, tucson_rain2013, tucson_rain2014, tucson_rain2015, tucson_rain2016, tucson_rain2017, tucson_rain2018, tucson_rain2019))"
   ]
  },
  {
   "cell_type": "code",
   "execution_count": null,
   "metadata": {},
   "outputs": [],
   "source": []
  }
 ],
 "metadata": {
  "kernelspec": {
   "display_name": "Python 3",
   "language": "python",
   "name": "python3"
  },
  "language_info": {
   "codemirror_mode": {
    "name": "ipython",
    "version": 3
   },
   "file_extension": ".py",
   "mimetype": "text/x-python",
   "name": "python",
   "nbconvert_exporter": "python",
   "pygments_lexer": "ipython3",
   "version": "3.8.3"
  }
 },
 "nbformat": 4,
 "nbformat_minor": 4
}
