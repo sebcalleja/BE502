{
 "cells": [
  {
   "cell_type": "code",
   "execution_count": 1,
   "metadata": {},
   "outputs": [],
   "source": [
    "import pandas as pd"
   ]
  },
  {
   "cell_type": "code",
   "execution_count": 11,
   "metadata": {},
   "outputs": [],
   "source": [
    "class Rain:\n",
    "    def __init__(self, filename, gauge_col=\"gaugeId\", date_col=\"readingDate\",\n",
    "                rain_col=\"rainAmount\", quality_col = \"quality\"):\n",
    "        self.gauge_col = gauge_col\n",
    "        self.date_col = date_col\n",
    "        self.rain_col = rain_col\n",
    "        self.quality_col = quality_col\n",
    "        data = pd.read_csv(filename)\n",
    "        dates=data['readingDate'].str.split('-')\n",
    "        data['year']=[dates[i][0] for i in dates.index]\n",
    "        data['month']=[dates[i][1] for i in dates.index]\n",
    "        data['day']=[dates[i][2] for i in dates.index]\n",
    "        self.__data__=data\n",
    "    def get_rain_t(self, year=None, month=None, day=None, quality=None):\n",
    "        data=self.__data__\n",
    "        if year !=None: data=data[data[self.date_col].str.contains(str(year)+\"-\")] \n",
    "        if month!=None and year!=None:\n",
    "           month_str=\"%02d\" %month\n",
    "           data=data[data[self.date_col].str.contains(str(year)+\"-\"+month_str+\"-\")]\n",
    "        if day!=None and month!=None and year!=None:\n",
    "           day_str=\"%02d\" %day\n",
    "           data=data[data[self.date_col].str.contains(str(year)+\"-\"+month_str+\"-\"+day_str)]\n",
    "        if quality!=None: data=data[data[self.quality_col].str.upper()==quality.upper()]\n",
    "        return pd.DataFrame(data[self.rain_col].to_list(), data[self.gauge_col].to_list())\n",
    "    def get_rain_p(self, year=None, month=None, day=None, quality=None):\n",
    "        data=self.__data__\n",
    "        if year !=None: data=data[data[self.date_col].str.contains(str(year)+\"-\")] \n",
    "        if month!=None and year!=None:\n",
    "           month_str=\"%02d\" %month\n",
    "           data=data[data[self.date_col].str.contains(str(year)+\"-\"+month_str+\"-\")]\n",
    "        if day!=None and month!=None and year!=None:\n",
    "           day_str=\"%02d\" %day\n",
    "           data=data[data[self.date_col].str.contains(str(year)+\"-\"+month_str+\"-\"+day_str)]\n",
    "        if quality!=None: data=data[data[self.quality_col].str.upper()==quality.upper()]\n",
    "        return pd.DataFrame(data[self.rain_col].to_list(), data[self.gauge_col].to_list())\n",
    "rain_t = Rain('tucson_rain.csv')\n",
    "rain_p = Rain('phoenix_rain.csv')\n",
    "x=rain_t.get_rain_t(2019,1,1,quality=\"good\")\n",
    "y=rain_p.get_rain_p(2019,1,1,quality=\"good\")"
   ]
  },
  {
   "cell_type": "code",
   "execution_count": 15,
   "metadata": {},
   "outputs": [
    {
     "ename": "SyntaxError",
     "evalue": "invalid syntax (<ipython-input-15-93c774fa0ab9>, line 1)",
     "output_type": "error",
     "traceback": [
      "\u001b[0;36m  File \u001b[0;32m\"<ipython-input-15-93c774fa0ab9>\"\u001b[0;36m, line \u001b[0;32m1\u001b[0m\n\u001b[0;31m    x.rename([$1]={\"0\":\"Rain\"})\u001b[0m\n\u001b[0m              ^\u001b[0m\n\u001b[0;31mSyntaxError\u001b[0m\u001b[0;31m:\u001b[0m invalid syntax\n"
     ]
    }
   ],
   "source": []
  },
  {
   "cell_type": "code",
   "execution_count": 29,
   "metadata": {},
   "outputs": [
    {
     "data": {
      "text/html": [
       "<div>\n",
       "<style scoped>\n",
       "    .dataframe tbody tr th:only-of-type {\n",
       "        vertical-align: middle;\n",
       "    }\n",
       "\n",
       "    .dataframe tbody tr th {\n",
       "        vertical-align: top;\n",
       "    }\n",
       "\n",
       "    .dataframe thead th {\n",
       "        text-align: right;\n",
       "    }\n",
       "</style>\n",
       "<table border=\"1\" class=\"dataframe\">\n",
       "  <thead>\n",
       "    <tr style=\"text-align: right;\">\n",
       "      <th></th>\n",
       "      <th>0</th>\n",
       "    </tr>\n",
       "  </thead>\n",
       "  <tbody>\n",
       "    <tr>\n",
       "      <th>2348</th>\n",
       "      <td>0.35</td>\n",
       "    </tr>\n",
       "    <tr>\n",
       "      <th>6538</th>\n",
       "      <td>0.49</td>\n",
       "    </tr>\n",
       "    <tr>\n",
       "      <th>8624</th>\n",
       "      <td>0.26</td>\n",
       "    </tr>\n",
       "    <tr>\n",
       "      <th>3161</th>\n",
       "      <td>0.10</td>\n",
       "    </tr>\n",
       "    <tr>\n",
       "      <th>10481</th>\n",
       "      <td>0.35</td>\n",
       "    </tr>\n",
       "    <tr>\n",
       "      <th>...</th>\n",
       "      <td>...</td>\n",
       "    </tr>\n",
       "    <tr>\n",
       "      <th>4496</th>\n",
       "      <td>0.00</td>\n",
       "    </tr>\n",
       "    <tr>\n",
       "      <th>4296</th>\n",
       "      <td>0.00</td>\n",
       "    </tr>\n",
       "    <tr>\n",
       "      <th>454</th>\n",
       "      <td>0.00</td>\n",
       "    </tr>\n",
       "    <tr>\n",
       "      <th>9818</th>\n",
       "      <td>0.30</td>\n",
       "    </tr>\n",
       "    <tr>\n",
       "      <th>4595</th>\n",
       "      <td>0.00</td>\n",
       "    </tr>\n",
       "  </tbody>\n",
       "</table>\n",
       "<p>361 rows × 1 columns</p>\n",
       "</div>"
      ],
      "text/plain": [
       "          0\n",
       "2348   0.35\n",
       "6538   0.49\n",
       "8624   0.26\n",
       "3161   0.10\n",
       "10481  0.35\n",
       "...     ...\n",
       "4496   0.00\n",
       "4296   0.00\n",
       "454    0.00\n",
       "9818   0.30\n",
       "4595   0.00\n",
       "\n",
       "[361 rows x 1 columns]"
      ]
     },
     "execution_count": 29,
     "metadata": {},
     "output_type": "execute_result"
    }
   ],
   "source": []
  },
  {
   "cell_type": "code",
   "execution_count": null,
   "metadata": {},
   "outputs": [],
   "source": []
  }
 ],
 "metadata": {
  "kernelspec": {
   "display_name": "Python 3",
   "language": "python",
   "name": "python3"
  },
  "language_info": {
   "codemirror_mode": {
    "name": "ipython",
    "version": 3
   },
   "file_extension": ".py",
   "mimetype": "text/x-python",
   "name": "python",
   "nbconvert_exporter": "python",
   "pygments_lexer": "ipython3",
   "version": "3.8.3"
  }
 },
 "nbformat": 4,
 "nbformat_minor": 4
}
